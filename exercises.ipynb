{
  "cells": [
    {
      "cell_type": "markdown",
      "id": "ded28f26",
      "metadata": {},
      "source": [
        "<font color='darkred'> Unless otherwise noted, **this notebook will not be reviewed or autograded.**</font> You are welcome to use it for scratchwork, but **only the files listed in the exercises will be checked.**\n",
        "\n",
        "---\n",
        "\n",
        "# Exercises\n",
        "\n",
        "For these exercises, you'll be creating a [Python class](https://www.hackerearth.com/practice/python/object-oriented-programming/classes-and-objects-i/tutorial/) in the *apputil.py* file.\n",
        "\n",
        "A few tips:\n",
        "\n",
        "- Some of these exercises will require some \"JSON digging\".\n",
        "- <font color='lightblue'>Your functions should still adhere to [best practices](https://codesignal.com/learn/courses/clean-code-basics-with-python/lessons/clean-function-design-in-python), so **your class should probably contain more functions than only the ones dictated below**.</font>\n"
      ]
    },
    {
      "cell_type": "markdown",
      "id": "951027e2",
      "metadata": {},
      "source": [
        "## Exercise 1\n",
        "\n",
        "Create a Python class named `Genius` such that the following code initializes the object, and \"saves\" the access token as an attribute of the object. You'll need to use this attribute for Exercises 2 and 3.\n",
        "\n",
        "```python\n",
        "from apputil import Genius\n",
        "\n",
        "genius = Genius(access_token=\"access_token\")\n",
        "```"
      ]
    },
    {
      "cell_type": "code",
      "execution_count": 10,
      "id": "dbc3b7ff",
      "metadata": {},
      "outputs": [],
      "source": [
        "from apputil import Genius\n",
        "import requests"
      ]
    },
    {
      "cell_type": "code",
      "execution_count": 7,
      "id": "e3b36d39",
      "metadata": {},
      "outputs": [
        {
          "data": {
            "text/plain": [
              "'tRN9Rki5cuZDbROL5rb7KP4D0ug-SZejK6sEdPY7I_o9furK8w06ry5nmLjuAyst'"
            ]
          },
          "execution_count": 7,
          "metadata": {},
          "output_type": "execute_result"
        }
      ],
      "source": [
        "genius = Genius(access_token=\"access_token\")\n",
        "genius.get_access_token()"
      ]
    },
    {
      "cell_type": "markdown",
      "id": "bde62e8d",
      "metadata": {},
      "source": [
        "## Exercise 2\n",
        "\n",
        "Reference the `json_data` in the lab. Notice, when we search for an artist name (e.g., \"Missy Elliot\") in Genius, the result is a list of *songs* attributed to that artist. Suppose we want to capture information about the artist themselves.\n",
        "\n",
        "Create a method for our `Genius` class called `.get_artist(search_term)` which does the following:\n",
        "\n",
        "1. Extract the (most likely, \"Primary\") Artist ID from the first \"hit\" of the `search_term`.\n",
        "2. Use the [API path](https://docs.genius.com/#artists-h2) for this Artist ID to pull information about the artist.\n",
        "3. **Return** the dictionary containing the resulting JSON object.\n",
        "\n",
        "For example, the following code should return a dictionary of artist information:\n",
        "\n",
        "```python\n",
        "genius.get_artist(\"Radiohead\")\n",
        "```"
      ]
    },
    {
      "cell_type": "code",
      "execution_count": null,
      "id": "e126c98e",
      "metadata": {},
      "outputs": [],
      "source": []
    },
    {
      "cell_type": "code",
      "execution_count": 26,
      "id": "ea6b2906",
      "metadata": {},
      "outputs": [],
      "source": [
        "def get_artist_id(artist):\n",
        "    \"\"\"Function to get the artist ID from the main response\"\"\"\n",
        "    #Get the token\n",
        "    token = genius.get_access_token()\n",
        "    #Construct the url\n",
        "    artist_url = f\"http://api.genius.com/search?q={artist}&access_token={token}\"\n",
        "    #Parse json\n",
        "    response = requests.get(artist_url)\n",
        "    json_data = response.json()\n",
        "    artist_id = json_data[\"response\"][\"hits\"][1][\"result\"][\"id\"]\n",
        "    return(artist_id)"
      ]
    },
    {
      "cell_type": "code",
      "execution_count": 27,
      "id": "01fadc59",
      "metadata": {},
      "outputs": [
        {
          "data": {
            "text/plain": [
              "64344"
            ]
          },
          "execution_count": 27,
          "metadata": {},
          "output_type": "execute_result"
        }
      ],
      "source": [
        "get_artist_id(\"Radiohead\")"
      ]
    },
    {
      "cell_type": "markdown",
      "id": "55054b2a",
      "metadata": {},
      "source": [
        "## Exercise 3\n",
        "\n",
        "Use the result from Exercise 2 to create another method for our `Genius` class called `.get_artists(search_terms)` (plural) which takes in a *list* of search terms, and returns a DataFrame containing a row for each search term, and the following columns:\n",
        "\n",
        "- `search_term`: the raw search term from `search_terms`\n",
        "- `artist_name`: the (most likely) artist name for the search term\n",
        "- `artist_id`: the Genius Artist ID for that artist, based on the API call\n",
        "- `followers_count`: the number of followers for that artist (if available)\n",
        "\n",
        "For example, the following should return a DataFrame with 4 rows:\n",
        "\n",
        "```python\n",
        "genius.get_artists(['Rihanna', 'Tycho', 'Seal', 'U2'])\n",
        "```"
      ]
    },
    {
      "cell_type": "markdown",
      "id": "20fd446a",
      "metadata": {},
      "source": [
        "## Bonus Exercise (optional)\n",
        "\n",
        "1. Gather a list of 100+ various musical artists, and save this list in a TXT file.\n",
        "2. Write a Python *script* that saves the result of `.get_artists` for these artists in a CSV file.\n",
        "3. If you have time, adjust this script to use multiprocessing."
      ]
    }
  ],
  "metadata": {
    "colab": {
      "provenance": []
    },
    "kernelspec": {
      "display_name": ".venv",
      "language": "python",
      "name": "python3"
    },
    "language_info": {
      "codemirror_mode": {
        "name": "ipython",
        "version": 3
      },
      "file_extension": ".py",
      "mimetype": "text/x-python",
      "name": "python",
      "nbconvert_exporter": "python",
      "pygments_lexer": "ipython3",
      "version": "3.13.0"
    }
  },
  "nbformat": 4,
  "nbformat_minor": 5
}
