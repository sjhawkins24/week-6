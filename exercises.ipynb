{
  "cells": [
    {
      "cell_type": "markdown",
      "id": "ded28f26",
      "metadata": {},
      "source": [
        "<font color='darkred'> Unless otherwise noted, **this notebook will not be reviewed or autograded.**</font> You are welcome to use it for scratchwork, but **only the files listed in the exercises will be checked.**\n",
        "\n",
        "---\n",
        "\n",
        "# Exercises\n",
        "\n",
        "For these exercises, you'll be creating a [Python class](https://www.hackerearth.com/practice/python/object-oriented-programming/classes-and-objects-i/tutorial/) in the *apputil.py* file.\n",
        "\n",
        "A few tips:\n",
        "\n",
        "- Some of these exercises will require some \"JSON digging\".\n",
        "- <font color='lightblue'>Your functions should still adhere to [best practices](https://codesignal.com/learn/courses/clean-code-basics-with-python/lessons/clean-function-design-in-python), so **your class should probably contain more functions than only the ones dictated below**.</font>\n"
      ]
    },
    {
      "cell_type": "markdown",
      "id": "951027e2",
      "metadata": {},
      "source": [
        "## Exercise 1\n",
        "\n",
        "Create a Python class named `Genius` such that the following code initializes the object, and \"saves\" the access token as an attribute of the object. You'll need to use this attribute for Exercises 2 and 3.\n",
        "\n",
        "```python\n",
        "from apputil import Genius\n",
        "\n",
        "genius = Genius(access_token=\"access_token\")\n",
        "```"
      ]
    },
    {
      "cell_type": "code",
      "execution_count": 10,
      "id": "dbc3b7ff",
      "metadata": {},
      "outputs": [],
      "source": [
        "from apputil import Genius\n",
        "import requests"
      ]
    },
    {
      "cell_type": "code",
      "execution_count": 7,
      "id": "e3b36d39",
      "metadata": {},
      "outputs": [
        {
          "data": {
            "text/plain": [
              "'tRN9Rki5cuZDbROL5rb7KP4D0ug-SZejK6sEdPY7I_o9furK8w06ry5nmLjuAyst'"
            ]
          },
          "execution_count": 7,
          "metadata": {},
          "output_type": "execute_result"
        }
      ],
      "source": [
        "genius = Genius(access_token=\"access_token\")\n",
        "genius.get_access_token()"
      ]
    },
    {
      "cell_type": "markdown",
      "id": "bde62e8d",
      "metadata": {},
      "source": [
        "## Exercise 2\n",
        "\n",
        "Reference the `json_data` in the lab. Notice, when we search for an artist name (e.g., \"Missy Elliot\") in Genius, the result is a list of *songs* attributed to that artist. Suppose we want to capture information about the artist themselves.\n",
        "\n",
        "Create a method for our `Genius` class called `.get_artist(search_term)` which does the following:\n",
        "\n",
        "1. Extract the (most likely, \"Primary\") Artist ID from the first \"hit\" of the `search_term`.\n",
        "2. Use the [API path](https://docs.genius.com/#artists-h2) for this Artist ID to pull information about the artist.\n",
        "3. **Return** the dictionary containing the resulting JSON object.\n",
        "\n",
        "For example, the following code should return a dictionary of artist information:\n",
        "\n",
        "```python\n",
        "genius.get_artist(\"Radiohead\")\n",
        "```"
      ]
    },
    {
      "cell_type": "code",
      "execution_count": null,
      "id": "e126c98e",
      "metadata": {},
      "outputs": [],
      "source": []
    },
    {
      "cell_type": "code",
      "execution_count": 28,
      "id": "ea6b2906",
      "metadata": {},
      "outputs": [],
      "source": [
        "def get_artist_id(artist):\n",
        "    \"\"\"Function to get the artist ID from the main response\"\"\"\n",
        "    #Get the token\n",
        "    token = genius.get_access_token()\n",
        "    #Construct the url\n",
        "    artist_url = f\"http://api.genius.com/search?q={artist}&access_token={token}\"\n",
        "    #Parse json\n",
        "    response = requests.get(artist_url)\n",
        "    json_data = response.json()\n",
        "    artist_id = json_data[\"response\"][\"hits\"][1][\"result\"][\"id\"]\n",
        "    return(artist_id)"
      ]
    },
    {
      "cell_type": "code",
      "execution_count": 27,
      "id": "01fadc59",
      "metadata": {},
      "outputs": [
        {
          "data": {
            "text/plain": [
              "64344"
            ]
          },
          "execution_count": 27,
          "metadata": {},
          "output_type": "execute_result"
        }
      ],
      "source": [
        "get_artist_id(\"Radiohead\")"
      ]
    },
    {
      "cell_type": "code",
      "execution_count": 57,
      "id": "d3f40427",
      "metadata": {},
      "outputs": [],
      "source": [
        "def get_artist_details(artist_id):\n",
        "    #Get the token and page length\n",
        "    per_page = 1\n",
        "    token = genius.get_access_token()\n",
        "\n",
        "    #Construct the url\n",
        "    songs_url = f\"http://api.genius.com/artists/{artist_id}&per_page={per_page}\"\n",
        "\n",
        "    #Parse json\n",
        "    response = requests.get(songs_url, \n",
        "                        headers={\"Authorization\": \"Bearer \" + token})\n",
        "    json_data = response.json()\n",
        "    results = json_data[\"response\"][\"artist\"]\n",
        "    return(results)\n"
      ]
    },
    {
      "cell_type": "code",
      "execution_count": 58,
      "id": "e293cfbb",
      "metadata": {},
      "outputs": [
        {
          "data": {
            "text/plain": [
              "{'alternate_names': [],\n",
              " 'api_path': '/artists/64344',\n",
              " 'description': {'dom': {'tag': 'root',\n",
              "   'children': [{'tag': 'p', 'children': ['?']}]}},\n",
              " 'facebook_name': None,\n",
              " 'header_image_url': 'https://assets.genius.com/images/default_avatar_300.png?1759437955',\n",
              " 'id': 64344,\n",
              " 'image_url': 'https://assets.genius.com/images/default_avatar_300.png?1759437955',\n",
              " 'instagram_name': None,\n",
              " 'is_meme_verified': False,\n",
              " 'is_verified': False,\n",
              " 'name': 'Rana Florida',\n",
              " 'translation_artist': False,\n",
              " 'twitter_name': None,\n",
              " 'url': 'https://genius.com/artists/Rana-florida',\n",
              " 'current_user_metadata': {'permissions': ['view_activity_stream',\n",
              "   'view_discography'],\n",
              "  'excluded_permissions': ['edit',\n",
              "   'edit_images',\n",
              "   'edit_names',\n",
              "   'edit_anything',\n",
              "   'merge',\n",
              "   'sort_artist_songs',\n",
              "   'follow',\n",
              "   'view_contribution_opportunities',\n",
              "   'edit_translation_artist',\n",
              "   'split',\n",
              "   'see_short_id'],\n",
              "  'interactions': {'following': False}},\n",
              " 'followers_count': 0,\n",
              " 'description_annotation': {'_type': 'referent',\n",
              "  'annotator_id': 1216,\n",
              "  'annotator_login': 'WalterCrunkite',\n",
              "  'api_path': '/referents/6979444',\n",
              "  'classification': 'needs_exegesis',\n",
              "  'fragment': 'Rana Florida',\n",
              "  'id': 6979444,\n",
              "  'is_description': True,\n",
              "  'path': '/6979444/Rana-florida/Rana-florida',\n",
              "  'range': {'content': 'Rana Florida'},\n",
              "  'song_id': None,\n",
              "  'url': 'https://genius.com/6979444/Rana-florida/Rana-florida',\n",
              "  'verified_annotator_ids': [],\n",
              "  'annotatable': {'api_path': '/artists/64344',\n",
              "   'context': None,\n",
              "   'id': 64344,\n",
              "   'image_url': 'https://assets.genius.com/images/default_avatar_32.png?1759437955',\n",
              "   'link_title': 'Rana Florida',\n",
              "   'title': 'Rana Florida',\n",
              "   'type': 'Artist',\n",
              "   'url': 'https://genius.com/artists/Rana-florida'},\n",
              "  'annotations': [{'api_path': '/annotations/6979444',\n",
              "    'body': {'dom': {'tag': 'root'}},\n",
              "    'comment_count': 0,\n",
              "    'community': True,\n",
              "    'custom_preview': None,\n",
              "    'has_voters': False,\n",
              "    'id': 6979444,\n",
              "    'pinned': False,\n",
              "    'share_url': 'https://genius.com/6979444',\n",
              "    'source': None,\n",
              "    'state': 'needs_exegesis',\n",
              "    'url': 'https://genius.com/6979444/Rana-florida/Rana-florida',\n",
              "    'verified': False,\n",
              "    'votes_total': 0,\n",
              "    'current_user_metadata': {'permissions': [],\n",
              "     'excluded_permissions': ['vote',\n",
              "      'edit',\n",
              "      'cosign',\n",
              "      'uncosign',\n",
              "      'destroy',\n",
              "      'accept',\n",
              "      'reject',\n",
              "      'see_unreviewed',\n",
              "      'clear_votes',\n",
              "      'propose_edit_to',\n",
              "      'pin_to_profile',\n",
              "      'unpin_from_profile',\n",
              "      'update_source',\n",
              "      'edit_custom_preview',\n",
              "      'report_as_abusive',\n",
              "      'create_comment'],\n",
              "     'interactions': {'cosign': False, 'pyong': False, 'vote': None},\n",
              "     'iq_by_action': {}},\n",
              "    'authors': [{'attribution': 1.0,\n",
              "      'pinned_role': None,\n",
              "      'user': {'api_path': '/users/1216',\n",
              "       'avatar': {'tiny': {'url': 'https://s3.amazonaws.com/rapgenius/avatars/tiny/1216_3xbirds.jpg',\n",
              "         'bounding_box': {'width': 16, 'height': 16}},\n",
              "        'thumb': {'url': 'https://s3.amazonaws.com/rapgenius/avatars/thumb/1358288181_1216_3xbirds.jpg',\n",
              "         'bounding_box': {'width': 32, 'height': 32}},\n",
              "        'small': {'url': 'https://s3.amazonaws.com/rapgenius/avatars/small/1358288181_1216_3xbirds.jpg',\n",
              "         'bounding_box': {'width': 100, 'height': 100}},\n",
              "        'medium': {'url': 'https://s3.amazonaws.com/rapgenius/avatars/medium/1358288180_1216_3xbirds.jpg',\n",
              "         'bounding_box': {'width': 300, 'height': 400}}},\n",
              "       'header_image_url': 'https://s3.amazonaws.com/rapgenius/avatars/medium/1358288180_1216_3xbirds.jpg',\n",
              "       'human_readable_role_for_display': 'Editor',\n",
              "       'id': 1216,\n",
              "       'iq': 72742,\n",
              "       'login': 'WalterCrunkite',\n",
              "       'name': 'Walter Crunkite',\n",
              "       'role_for_display': 'editor',\n",
              "       'url': 'https://genius.com/WalterCrunkite',\n",
              "       'current_user_metadata': {'permissions': [],\n",
              "        'excluded_permissions': ['follow'],\n",
              "        'interactions': {'following': False}}}}],\n",
              "    'cosigned_by': [],\n",
              "    'rejection_comment': None,\n",
              "    'verified_by': None}]},\n",
              " 'user': None}"
            ]
          },
          "execution_count": 58,
          "metadata": {},
          "output_type": "execute_result"
        }
      ],
      "source": [
        "get_artist_details(64344)"
      ]
    },
    {
      "cell_type": "code",
      "execution_count": 45,
      "id": "20f6bd78",
      "metadata": {},
      "outputs": [
        {
          "data": {
            "text/plain": [
              "'tRN9Rki5cuZDbROL5rb7KP4D0ug-SZejK6sEdPY7I_o9furK8w06ry5nmLjuAyst'"
            ]
          },
          "execution_count": 45,
          "metadata": {},
          "output_type": "execute_result"
        }
      ],
      "source": [
        "token"
      ]
    },
    {
      "cell_type": "code",
      "execution_count": null,
      "id": "d829aa0e",
      "metadata": {},
      "outputs": [],
      "source": []
    },
    {
      "cell_type": "markdown",
      "id": "55054b2a",
      "metadata": {},
      "source": [
        "## Exercise 3\n",
        "\n",
        "Use the result from Exercise 2 to create another method for our `Genius` class called `.get_artists(search_terms)` (plural) which takes in a *list* of search terms, and returns a DataFrame containing a row for each search term, and the following columns:\n",
        "\n",
        "- `search_term`: the raw search term from `search_terms`\n",
        "- `artist_name`: the (most likely) artist name for the search term\n",
        "- `artist_id`: the Genius Artist ID for that artist, based on the API call\n",
        "- `followers_count`: the number of followers for that artist (if available)\n",
        "\n",
        "For example, the following should return a DataFrame with 4 rows:\n",
        "\n",
        "```python\n",
        "genius.get_artists(['Rihanna', 'Tycho', 'Seal', 'U2'])\n",
        "```"
      ]
    },
    {
      "cell_type": "markdown",
      "id": "20fd446a",
      "metadata": {},
      "source": [
        "## Bonus Exercise (optional)\n",
        "\n",
        "1. Gather a list of 100+ various musical artists, and save this list in a TXT file.\n",
        "2. Write a Python *script* that saves the result of `.get_artists` for these artists in a CSV file.\n",
        "3. If you have time, adjust this script to use multiprocessing."
      ]
    }
  ],
  "metadata": {
    "colab": {
      "provenance": []
    },
    "kernelspec": {
      "display_name": ".venv",
      "language": "python",
      "name": "python3"
    },
    "language_info": {
      "codemirror_mode": {
        "name": "ipython",
        "version": 3
      },
      "file_extension": ".py",
      "mimetype": "text/x-python",
      "name": "python",
      "nbconvert_exporter": "python",
      "pygments_lexer": "ipython3",
      "version": "3.13.0"
    }
  },
  "nbformat": 4,
  "nbformat_minor": 5
}
